{
 "cells": [
  {
   "cell_type": "markdown",
   "id": "9fb0c807",
   "metadata": {},
   "source": [
    "# Optical waveguide modes"
   ]
  },
  {
   "cell_type": "code",
   "execution_count": null,
   "id": "536193f9",
   "metadata": {
    "tags": [
     "remove-stderr",
     "hide-input",
     "thebe-init"
    ]
   },
   "outputs": [],
   "source": [
    "from collections import OrderedDict\n",
    "\n",
    "import matplotlib.pyplot as plt\n",
    "import numpy as np\n",
    "import shapely\n",
    "import shapely.affinity\n",
    "from scipy.constants import epsilon_0, speed_of_light\n",
    "from shapely.ops import clip_by_rect\n",
    "from skfem import Basis, ElementTriP0\n",
    "from skfem.io.meshio import from_meshio\n",
    "\n",
    "from femwell.maxwell.waveguide import compute_modes\n",
    "from femwell.mesh import mesh_from_OrderedDict\n",
    "from femwell.visualization import plot_domains"
   ]
  },
  {
   "cell_type": "markdown",
   "id": "2243980e",
   "metadata": {},
   "source": [
    "We describe the geometry using shapely.\n",
    "In this case it's simple: we use a shapely.box for the waveguide.\n",
    "For the surrounding we buffer the core and clip it to the part below the waveguide for the box.\n",
    "The remaining buffer is used as the clad.\n",
    "For the core we set the resolution to 30nm and let it fall of over 500nm"
   ]
  },
  {
   "cell_type": "code",
   "execution_count": null,
   "id": "d4b0d4f6",
   "metadata": {},
   "outputs": [],
   "source": [
    "wg_width = 2.5\n",
    "wg_thickness = 0.3\n",
    "core = shapely.geometry.box(-wg_width / 2, 0, +wg_width / 2, wg_thickness)\n",
    "env = shapely.affinity.scale(core.buffer(5, resolution=8), xfact=0.5)\n",
    "\n",
    "polygons = OrderedDict(\n",
    "    core=core,\n",
    "    box=clip_by_rect(env, -np.inf, -np.inf, np.inf, 0),\n",
    "    clad=clip_by_rect(env, -np.inf, 0, np.inf, np.inf),\n",
    ")\n",
    "\n",
    "resolutions = dict(core={\"resolution\": 0.03, \"distance\": 0.5})\n",
    "\n",
    "mesh = from_meshio(mesh_from_OrderedDict(polygons, resolutions, default_resolution_max=10))\n",
    "mesh.draw().show()"
   ]
  },
  {
   "cell_type": "markdown",
   "id": "c2b052f9",
   "metadata": {},
   "source": [
    "Let's also plot the domains"
   ]
  },
  {
   "cell_type": "code",
   "execution_count": null,
   "id": "2ad92911",
   "metadata": {},
   "outputs": [],
   "source": [
    "plot_domains(mesh)\n",
    "plt.show()"
   ]
  },
  {
   "cell_type": "markdown",
   "id": "7ac221b8",
   "metadata": {},
   "source": [
    "On this mesh, we define the epsilon. We do this by setting domainwise the epsilon to the squared refractive index."
   ]
  },
  {
   "cell_type": "code",
   "execution_count": null,
   "id": "e8aa8ea5",
   "metadata": {},
   "outputs": [],
   "source": [
    "basis0 = Basis(mesh, ElementTriP0())\n",
    "epsilon = basis0.zeros()\n",
    "for subdomain, n in {\"core\": 1.9963, \"box\": 1.444, \"clad\": 1}.items():\n",
    "    epsilon[basis0.get_dofs(elements=subdomain)] = n**2\n",
    "basis0.plot(epsilon, colorbar=True).show()"
   ]
  },
  {
   "cell_type": "markdown",
   "id": "07ec3a2d",
   "metadata": {},
   "source": [
    "And now we call `compute_modes` to calculate the modes of the waveguide we set up.\n",
    "As modes can have complex fields as soon as the epsilon gets complex, so we get a complex field for each mode.\n",
    "Here we show only the real part of the mode."
   ]
  },
  {
   "cell_type": "code",
   "execution_count": null,
   "id": "a88346db",
   "metadata": {
    "lines_to_next_cell": 2
   },
   "outputs": [],
   "source": [
    "wavelength = 1.55\n",
    "\n",
    "modes = compute_modes(basis0, epsilon, wavelength=wavelength, num_modes=2, order=2)\n",
    "for mode in modes:\n",
    "    print(f\"Effective refractive index: {mode.n_eff:.4f}\")\n",
    "    mode.show(\"E\", part=\"real\", colorbar=True)\n",
    "    mode.show(\"E\", part=\"imag\", colorbar=True)"
   ]
  },
  {
   "cell_type": "markdown",
   "id": "7abc23ff",
   "metadata": {},
   "source": [
    "The intensity can be plotted directly from the mode object\n",
    "+"
   ]
  },
  {
   "cell_type": "code",
   "execution_count": null,
   "id": "c9cc4876",
   "metadata": {},
   "outputs": [],
   "source": [
    "modes[0].show(\"I\", colorbar=True)"
   ]
  },
  {
   "cell_type": "markdown",
   "id": "3241f6ca",
   "metadata": {},
   "source": [
    "-"
   ]
  },
  {
   "cell_type": "markdown",
   "id": "1647d5ce",
   "metadata": {},
   "source": [
    "Now, let's calculate with the modes:\n",
    "What percentage of the mode is within the core for the calculated modes?"
   ]
  },
  {
   "cell_type": "code",
   "execution_count": null,
   "id": "95c8aac2",
   "metadata": {},
   "outputs": [],
   "source": [
    "powers_in_waveguide = []\n",
    "confinement_factors_waveguide = []\n",
    "\n",
    "for mode in modes:\n",
    "    powers_in_waveguide.append(mode.calculate_power(elements=\"core\"))\n",
    "    confinement_factors_waveguide.append(mode.calculate_confinement_factor(elements=\"core\"))\n",
    "print(powers_in_waveguide)\n",
    "print(confinement_factors_waveguide)"
   ]
  }
 ],
 "metadata": {
  "jupytext": {
   "main_language": "python"
  },
  "kernelspec": {
   "display_name": "Python 3",
   "name": "python3"
  }
 },
 "nbformat": 4,
 "nbformat_minor": 5
}
