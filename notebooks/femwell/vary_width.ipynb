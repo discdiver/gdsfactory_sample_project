{
 "cells": [
  {
   "cell_type": "markdown",
   "id": "20bfba1c",
   "metadata": {},
   "source": [
    "# Variation of the width\n",
    "\n",
    "To understand the propagation in a waveguide, it's often helpful to look at how the effective refractive indices of the modes change when adjusting the width of the waveguide.\n",
    "As the modes continously change their refractive index, we can track them through their evolution.\n",
    "We gray the area which would indicate a effective refractive index below the refractive index of the underlying layer (commonly refered to as box), as such modes would not be guided.\n",
    "The refractive index of the box called \"cutoff\", as it defines the effective refractive index level under which modes stop being guided."
   ]
  },
  {
   "cell_type": "code",
   "execution_count": null,
   "id": "2c6871ea",
   "metadata": {
    "tags": [
     "hide-input"
    ]
   },
   "outputs": [],
   "source": [
    "\n",
    "from collections import OrderedDict\n",
    "\n",
    "import matplotlib.pyplot as plt\n",
    "import numpy as np\n",
    "from shapely.geometry import box\n",
    "from shapely.ops import clip_by_rect\n",
    "from skfem import Basis, ElementTriP0\n",
    "from skfem.io.meshio import from_meshio\n",
    "from tqdm import tqdm\n",
    "\n",
    "from femwell.maxwell.waveguide import compute_modes\n",
    "from femwell.mesh import mesh_from_OrderedDict"
   ]
  },
  {
   "cell_type": "code",
   "execution_count": null,
   "id": "26fa5479",
   "metadata": {
    "tags": [
     "remove-stderr"
    ]
   },
   "outputs": [],
   "source": [
    "wavelength = 1.55\n",
    "num_modes = 8\n",
    "widths = np.linspace(0.5, 3.5, 100)\n",
    "\n",
    "all_neffs = np.zeros((widths.shape[0], num_modes))\n",
    "all_te_fracs = np.zeros((widths.shape[0], num_modes))\n",
    "for i, width in enumerate(tqdm(widths)):\n",
    "    core = box(0, 0, width, 0.33)\n",
    "    polygons = OrderedDict(\n",
    "        core=core,\n",
    "        box=clip_by_rect(core.buffer(1.0, resolution=4), -np.inf, -np.inf, np.inf, 0),\n",
    "        clad=clip_by_rect(core.buffer(1.0, resolution=4), -np.inf, 0, np.inf, np.inf),\n",
    "    )\n",
    "\n",
    "    resolutions = {\"core\": {\"resolution\": 0.1, \"distance\": 1}}\n",
    "\n",
    "    mesh = from_meshio(mesh_from_OrderedDict(polygons, resolutions, default_resolution_max=0.6))\n",
    "\n",
    "    basis0 = Basis(mesh, ElementTriP0())\n",
    "    epsilon = basis0.zeros(dtype=complex)\n",
    "    for subdomain, n in {\"core\": 1.9963, \"box\": 1.444, \"clad\": 1}.items():\n",
    "        epsilon[basis0.get_dofs(elements=subdomain)] = n**2\n",
    "\n",
    "    modes = compute_modes(basis0, epsilon, wavelength=wavelength, num_modes=num_modes)\n",
    "    all_neffs[i] = np.real([mode.n_eff for mode in modes])\n",
    "    all_te_fracs[i, :] = [mode.te_fraction for mode in modes]"
   ]
  },
  {
   "cell_type": "code",
   "execution_count": null,
   "id": "819b615f",
   "metadata": {
    "tags": [
     "hide-input"
    ]
   },
   "outputs": [],
   "source": [
    "all_neffs = np.real(all_neffs)\n",
    "plt.xlabel(\"Width of waveguide / µm\")\n",
    "plt.ylabel(\"Effective refractive index\")\n",
    "plt.fill_between(widths, 1.444, alpha=0.5, color=\"gray\")\n",
    "plt.ylim(1.36, np.max(all_neffs) + 0.1 * (np.max(all_neffs) - 1.444))\n",
    "for lams, te_fracs in zip(all_neffs.T, all_te_fracs.T):\n",
    "    plt.plot(widths, lams)\n",
    "    plt.scatter(widths, lams, c=te_fracs, cmap=\"cool\")\n",
    "plt.colorbar().set_label(\"TE fraction\")\n",
    "plt.show()"
   ]
  },
  {
   "cell_type": "markdown",
   "id": "90b9ebac",
   "metadata": {},
   "source": [
    "\n",
    "The graph shows a TE mode emerging (getting a greater effective refractive index than the box) at a width of ~750nm.\n",
    "The second mode emerges at a wavelength of ~1700nm.\n",
    "Thus, the waveguide is a single mode waveguide with a width within the range from ~750nm to 1700nm.\n",
    "\n",
    "The second mode is at the width at which it emerges a TM-mode, but shows for slightly wider waveguides an anti-crossing with the emerging TE-mode.\n",
    "After this anti-crossing, the mode with the second highest effective refracteive index is TE10-mode, while the TM00-mode keeps existing in the system with an effective refractive inded slightly above the cutoff.\n",
    "At a  width of ~2600nm, a third TE-mode starts being guided."
   ]
  },
  {
   "cell_type": "code",
   "execution_count": null,
   "id": "2f3c2d2d",
   "metadata": {},
   "outputs": [],
   "source": []
  }
 ],
 "metadata": {
  "jupytext": {
   "encoding": "# -*- coding: utf-8 -*-",
   "main_language": "python"
  },
  "kernelspec": {
   "display_name": "Python 3",
   "name": "python3"
  }
 },
 "nbformat": 4,
 "nbformat_minor": 5
}
