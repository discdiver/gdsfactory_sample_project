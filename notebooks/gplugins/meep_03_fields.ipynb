{
 "cells": [
  {
   "cell_type": "markdown",
   "id": "0",
   "metadata": {},
   "source": [
    "# Meep fields\n",
    "\n",
    "Using the gplugins/gmeep utilities, we can also extract the output fields of the simulations.\n",
    "\n",
    "This requires using a continuous source instead of the broad(er)band gaussian used in S-parameter extraction. Since we are working at a definite frequency, we can also leverage the [finite-difference frequency domain solver](https://meep.readthedocs.io/en/latest/Python_Tutorials/Frequency_Domain_Solver/).\n",
    "\n",
    "In the spatial domain, this reuses the geometry and eigenmode source definitions of the plugin."
   ]
  },
  {
   "cell_type": "code",
   "execution_count": null,
   "id": "1",
   "metadata": {},
   "outputs": [],
   "source": [
    "from __future__ import annotations\n",
    "\n",
    "import gdsfactory as gf\n",
    "import meep as mp\n",
    "\n",
    "from gplugins.gmeep.get_simulation import get_simulation\n"
   ]
  },
  {
   "cell_type": "markdown",
   "id": "2",
   "metadata": {},
   "source": [
    "## Define a component"
   ]
  },
  {
   "cell_type": "code",
   "execution_count": null,
   "id": "3",
   "metadata": {},
   "outputs": [],
   "source": [
    "c = gf.components.straight(length=10)\n",
    "\n",
    "component = gf.add_padding_container(\n",
    "    c,\n",
    "    default=0,\n",
    "    top=3.2,\n",
    "    bottom=3.2,\n",
    ")\n",
    "\n",
    "component.plot()"
   ]
  },
  {
   "cell_type": "markdown",
   "id": "4",
   "metadata": {},
   "source": [
    "## Define a continuous source simulation"
   ]
  },
  {
   "cell_type": "code",
   "execution_count": null,
   "id": "5",
   "metadata": {},
   "outputs": [],
   "source": [
    "import matplotlib.pyplot as plt\n",
    "\n",
    "component = gf.add_padding_container(\n",
    "    c,\n",
    "    default=0,\n",
    "    top=3.2,\n",
    "    bottom=3.2,\n",
    ")\n",
    "\n",
    "sim_dict = get_simulation(\n",
    "    component,\n",
    "    is_3d=False,\n",
    "    port_source_offset=-0.1,\n",
    "    extend_ports_length=3,\n",
    "    continuous_source=True,\n",
    "    force_complex_fields=True,\n",
    ")\n",
    "sim = sim_dict[\"sim\"]\n",
    "sim.plot2D()\n",
    "plt.show()"
   ]
  },
  {
   "cell_type": "markdown",
   "id": "6",
   "metadata": {},
   "source": [
    "## FDFD simulation"
   ]
  },
  {
   "cell_type": "code",
   "execution_count": null,
   "id": "7",
   "metadata": {},
   "outputs": [],
   "source": [
    "sim.init_sim()\n",
    "sim.solve_cw(1e-6, 10000, 10)"
   ]
  },
  {
   "cell_type": "code",
   "execution_count": null,
   "id": "8",
   "metadata": {},
   "outputs": [],
   "source": [
    "sx = sim.cell_size.x\n",
    "sy = sim.cell_size.y\n",
    "dpml = sim.boundary_layers[0].thickness\n",
    "nonpml_vol = mp.Volume(mp.Vector3(), size=mp.Vector3(sx - 2 * dpml, sy - 2 * dpml))\n",
    "ez_dat = sim.get_array(vol=nonpml_vol, component=mp.Ez)"
   ]
  },
  {
   "cell_type": "code",
   "execution_count": null,
   "id": "9",
   "metadata": {},
   "outputs": [],
   "source": [
    "import numpy as np\n",
    "\n",
    "eps_data = sim.get_array(vol=nonpml_vol, component=mp.Dielectric)\n",
    "ez_data = np.real(ez_dat)\n",
    "\n",
    "plt.figure()\n",
    "plt.imshow(eps_data.transpose(), interpolation=\"spline36\", cmap=\"binary\")\n",
    "plt.imshow(ez_data.transpose(), interpolation=\"spline36\", cmap=\"RdBu\", alpha=0.9)\n",
    "plt.axis(\"off\")\n",
    "plt.show()"
   ]
  },
  {
   "cell_type": "markdown",
   "id": "10",
   "metadata": {},
   "source": [
    "## Steady-state FDTD simulation\n",
    "\n",
    "We can also just run the time-domain simulation with the continuous source until the field is stabilized:"
   ]
  },
  {
   "cell_type": "code",
   "execution_count": null,
   "id": "11",
   "metadata": {},
   "outputs": [],
   "source": [
    "sim.run(until=400)"
   ]
  },
  {
   "cell_type": "code",
   "execution_count": null,
   "id": "12",
   "metadata": {},
   "outputs": [],
   "source": [
    "eps_data = sim.get_epsilon()\n",
    "ez_data = np.real(sim.get_efield_z())\n",
    "\n",
    "import matplotlib.pyplot as plt\n",
    "\n",
    "plt.figure()\n",
    "sim.plot2D(\n",
    "    fields=mp.Ez,\n",
    "    plot_sources_flag=True,\n",
    "    plot_monitors_flag=False,\n",
    "    plot_boundaries_flag=True,\n",
    ")\n",
    "plt.axis(\"off\")\n",
    "plt.show()"
   ]
  }
 ],
 "metadata": {
  "jupytext": {
   "cell_metadata_filter": "-all",
   "custom_cell_magics": "kql"
  },
  "kernelspec": {
   "display_name": "base",
   "language": "python",
   "name": "python3"
  }
 },
 "nbformat": 4,
 "nbformat_minor": 5
}
