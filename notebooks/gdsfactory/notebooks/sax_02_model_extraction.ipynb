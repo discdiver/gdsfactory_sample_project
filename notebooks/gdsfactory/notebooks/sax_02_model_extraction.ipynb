{
 "cells": [
  {
   "cell_type": "markdown",
   "id": "0",
   "metadata": {},
   "source": [
    "# Automated model extraction\n",
    "\n",
    "You can use gdsfactory simulation plugins to build SDict models for circuit simulations.\n",
    "\n",
    "The parent `Model` class contains common logic for model building such as input-output vector definition from a set of input parameters, as well as fitting of the input-output vector relationships (for instance, through ND-ND interpolation and feedforward neural nets).  It further interfaces with [Ray](https://www.ray.io/) to distribute the required computations seamlessly from laptop, to cluster, to cloud.\n",
    "\n",
    "The children subclasses inherit all of this machinery, but further define solver- or component-specific information such as:\n",
    "\n",
    "- `outputs_from_inputs` method: how the input vectors (`Component`, `LayerStack`, or lithographic transformation arguments) are mapped to output vectors (this could directly be the S-parameters, or some solver results used to generate S-parameters like effective index)\n",
    "- `sdict` method: how the output vectors are mapped to S-parameter dictionaries for circuit simulation (this could directly be the result of `output_from_input`, or some downstream calculation using the output vectors with some extra Component parameters whose effect on the S-parameters is known and does not require training)\n",
    "\n",
    "For instance, consider a `straight` component in the generic LayerStack"
   ]
  },
  {
   "cell_type": "code",
   "execution_count": null,
   "id": "1",
   "metadata": {},
   "outputs": [],
   "source": [
    "import gdsfactory as gf\n",
    "import jax.numpy as jnp\n",
    "from gdsfactory.cross_section import rib\n",
    "from gdsfactory.generic_tech import get_generic_pdk\n",
    "from gdsfactory.pdk import get_layer_stack\n",
    "from gdsfactory.technology import LayerStack\n",
    "from loguru import logger\n",
    "\n",
    "from gplugins.sax.parameter import LayerStackThickness, NamedParameter\n",
    "\n",
    "logger.remove()\n",
    "\n",
    "gf.config.rich_output()\n",
    "PDK = get_generic_pdk()\n",
    "PDK.activate()\n",
    "\n",
    "c = gf.components.straight(\n",
    "    cross_section=rib(width=2),\n",
    "    length=10,\n",
    ")\n",
    "c.plot()"
   ]
  },
  {
   "cell_type": "code",
   "execution_count": null,
   "id": "2",
   "metadata": {},
   "outputs": [],
   "source": [
    "layer_stack = get_layer_stack()\n",
    "\n",
    "filtered_layer_stack = LayerStack(\n",
    "    layers={\n",
    "        k: layer_stack.layers[k]\n",
    "        for k in (\n",
    "            \"slab90\",\n",
    "            \"core\",\n",
    "            \"box\",\n",
    "            \"clad\",\n",
    "        )\n",
    "    }\n",
    ")"
   ]
  },
  {
   "cell_type": "markdown",
   "id": "3",
   "metadata": {
    "lines_to_next_cell": 2
   },
   "source": [
    "We first wrap this component into a function taking for argument only a dictionary, the keys of which are used to parametrize the Component arguments we are interested in varying. Below, for instance, we force the component straight to have a `rib` cross-section, whose width can be varied.\n"
   ]
  },
  {
   "cell_type": "code",
   "execution_count": null,
   "id": "4",
   "metadata": {},
   "outputs": [],
   "source": [
    "def trainable_straight_rib(parameters):\n",
    "    return gf.components.straight(cross_section=rib(width=parameters[\"width\"]))"
   ]
  },
  {
   "cell_type": "markdown",
   "id": "5",
   "metadata": {},
   "source": [
    "## Instantiating Models"
   ]
  },
  {
   "cell_type": "markdown",
   "id": "6",
   "metadata": {},
   "source": [
    "Next we can instantiate the `Model` proper. Here, we use the children class `FemwellWaveguideModel`. Its `outputs_from_inputs` method returns the effective index from the input geometry, and its `sdict` function uses the input geometry, length, and loss to return the S-parameters for the corresponding straight waveguide:"
   ]
  },
  {
   "cell_type": "code",
   "execution_count": null,
   "id": "7",
   "metadata": {},
   "outputs": [],
   "source": [
    "from gplugins.sax.integrations.femwell_waveguide_model import FemwellWaveguideModel\n",
    "\n",
    "rib_waveguide_model = FemwellWaveguideModel(\n",
    "    trainable_component=trainable_straight_rib,\n",
    "    layer_stack=filtered_layer_stack,\n",
    "    simulation_settings={\n",
    "        \"resolutions\": {\n",
    "            \"core\": {\"resolution\": 0.02, \"distance\": 2},\n",
    "            \"clad\": {\"resolution\": 0.2, \"distance\": 1},\n",
    "            \"box\": {\"resolution\": 0.2, \"distance\": 1},\n",
    "            \"slab90\": {\"resolution\": 0.05, \"distance\": 1},\n",
    "        },\n",
    "        \"overwrite\": False,\n",
    "        \"order\": 1,\n",
    "        \"radius\": jnp.inf,\n",
    "    },\n",
    "    trainable_parameters={\n",
    "        \"width\": NamedParameter(\n",
    "            min_value=0.4, max_value=0.6, nominal_value=0.5, step=0.05\n",
    "        ),\n",
    "        \"wavelength\": NamedParameter(\n",
    "            min_value=1.545, max_value=1.555, nominal_value=1.55, step=0.005\n",
    "        ),\n",
    "        \"core_thickness\": LayerStackThickness(\n",
    "            layer_stack=filtered_layer_stack,\n",
    "            min_value=0.21,\n",
    "            max_value=0.23,\n",
    "            nominal_value=0.22,\n",
    "            layername=\"core\",\n",
    "            step=0.1,\n",
    "        ),\n",
    "    },\n",
    "    non_trainable_parameters={\n",
    "        \"length\": NamedParameter(nominal_value=10),\n",
    "        \"loss\": NamedParameter(nominal_value=1),\n",
    "    },\n",
    "    num_modes=4,\n",
    ")"
   ]
  },
  {
   "cell_type": "markdown",
   "id": "8",
   "metadata": {},
   "source": [
    "Note the dictionary parameters:\n",
    "\n",
    "(1) the entries of `simulation_settings` are used by the model builder to parametrize the simulator,\n",
    "\n",
    "(2) the entries of `trainable_parameters` are used to define the simulation space that maps inputs to outputs and which requires interpolation, and\n",
    "\n",
    "(3) the entries of `non_trainable_parameters` are required to calculate the S-parameters, but do not appear in the simulator (their effect can be added after intermediate results have been interpolated).\n",
    "\n",
    "\n",
    "We also provide arguments to launch or connect to a Ray cluster to distribute the computations. `address` is the IP of the cluster (defaults to finding a local running instance, or launching one), `dashboard_port` is the local IP to connect to monitor the tasks, `num_cpus` is the total number of CPUs to allocate the cluster (defaults to autoscaling), `num_cpus_per_task` is the number of CPUs each raylet gets by default.\n",
    "\n",
    "\n",
    "## Training models\n",
    "\n",
    "The Model object can generate input and output vectors requiring modelling from these dicts:"
   ]
  },
  {
   "cell_type": "code",
   "execution_count": null,
   "id": "9",
   "metadata": {},
   "outputs": [],
   "source": [
    "input_vectors, output_vectors = rib_waveguide_model.get_all_inputs_outputs()"
   ]
  },
  {
   "cell_type": "markdown",
   "id": "10",
   "metadata": {},
   "source": [
    "From above, we expect the input vector to have a number of rows equal to the set of trainable parameter points, here len(widths) x len(core_thickness) x len(wavelength) = 15, and a number of columns equal to the number of trainable parameters (3):"
   ]
  },
  {
   "cell_type": "code",
   "execution_count": null,
   "id": "11",
   "metadata": {},
   "outputs": [],
   "source": [
    "import numpy as np\n",
    "\n",
    "print(np.shape(input_vectors))\n",
    "print(input_vectors[0])"
   ]
  },
  {
   "cell_type": "markdown",
   "id": "12",
   "metadata": {},
   "source": [
    "The output (here, the effective indices) will have #input_vector rows, and #modes columns:"
   ]
  },
  {
   "cell_type": "code",
   "execution_count": null,
   "id": "13",
   "metadata": {},
   "outputs": [],
   "source": [
    "print(output_vectors[0])\n",
    "print(np.shape(output_vectors))"
   ]
  },
  {
   "cell_type": "markdown",
   "id": "14",
   "metadata": {},
   "source": [
    "Typically we are not interested in these vectors per say, but in some interpolation model between them. One way is to perform ND-ND interpolation:"
   ]
  },
  {
   "cell_type": "code",
   "execution_count": null,
   "id": "15",
   "metadata": {},
   "outputs": [],
   "source": [
    "rib_waveguide_model.set_nd_nd_interp()"
   ]
  },
  {
   "cell_type": "markdown",
   "id": "16",
   "metadata": {},
   "source": [
    "The populates the model with an interpolator\n",
    "\n",
    "## Model inference\n",
    "\n",
    "These can then be used to construct the S-parameters within the trainable_parameter range:"
   ]
  },
  {
   "cell_type": "code",
   "execution_count": null,
   "id": "17",
   "metadata": {},
   "outputs": [],
   "source": [
    "params_dict = {\n",
    "    \"width\": 0.5,\n",
    "    \"wavelength\": 1.55,\n",
    "    \"core_thickness\": 0.22,\n",
    "    \"length\": 10,\n",
    "    \"loss\": 1,\n",
    "}\n",
    "\n",
    "print(rib_waveguide_model.sdict(params_dict))"
   ]
  },
  {
   "cell_type": "markdown",
   "id": "18",
   "metadata": {},
   "source": [
    "These can also be called as arrays:"
   ]
  },
  {
   "cell_type": "code",
   "execution_count": null,
   "id": "19",
   "metadata": {},
   "outputs": [],
   "source": [
    "params_dict = {\n",
    "    \"width\": jnp.array([0.5, 0.3, 0.65]),\n",
    "    \"wavelength\": jnp.array([1.55, 1.547, 1.55]),\n",
    "    \"core_thickness\": jnp.array([0.22, 0.22, 0.21]),\n",
    "    \"length\": jnp.ones(3) * 10,\n",
    "    \"loss\": jnp.ones(3) * 1,\n",
    "}\n",
    "\n",
    "print(rib_waveguide_model.sdict(params_dict))"
   ]
  },
  {
   "cell_type": "markdown",
   "id": "20",
   "metadata": {},
   "source": [
    "## Model validation"
   ]
  },
  {
   "cell_type": "markdown",
   "id": "21",
   "metadata": {},
   "source": [
    "We can validate the intermediate input-output relationships by comparing the predictions to new simulations within the trainable parameter space:"
   ]
  },
  {
   "cell_type": "code",
   "execution_count": null,
   "id": "22",
   "metadata": {},
   "outputs": [],
   "source": [
    "validation_inputs, calculated_outputs, inferred_outputs = rib_waveguide_model.validate(\n",
    "    num_samples=1\n",
    ")"
   ]
  },
  {
   "cell_type": "code",
   "execution_count": null,
   "id": "23",
   "metadata": {},
   "outputs": [],
   "source": [
    "validation_inputs"
   ]
  },
  {
   "cell_type": "code",
   "execution_count": null,
   "id": "24",
   "metadata": {},
   "outputs": [],
   "source": [
    "input_vectors"
   ]
  },
  {
   "cell_type": "code",
   "execution_count": null,
   "id": "25",
   "metadata": {},
   "outputs": [],
   "source": [
    "output_vectors"
   ]
  },
  {
   "cell_type": "markdown",
   "id": "26",
   "metadata": {},
   "source": [
    "While the trend seems reasonable, the model above could benefit from more examples or better simulation parameter tuning."
   ]
  }
 ],
 "metadata": {
  "jupytext": {
   "cell_metadata_filter": "-all",
   "main_language": "python",
   "notebook_metadata_filter": "-all"
  }
 },
 "nbformat": 4,
 "nbformat_minor": 5
}
