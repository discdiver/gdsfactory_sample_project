{
 "cells": [
  {
   "cell_type": "markdown",
   "id": "829f7281",
   "metadata": {},
   "source": [
    "# Physics-informed propagation loss model\n",
    "\n",
    "The ability to locally refine the mesh makes FEM well-suited to problems with very different lengthscales.\n",
    "\n",
    "One such problem is empirically modeling the propagation loss due to sidewall roughness, for instance as performed in {cite}`Lindecrantz2014`."
   ]
  },
  {
   "cell_type": "code",
   "execution_count": null,
   "id": "59e07541",
   "metadata": {
    "tags": [
     "remove-stderr"
    ]
   },
   "outputs": [],
   "source": [
    "\n",
    "from collections import OrderedDict\n",
    "\n",
    "import numpy as np\n",
    "import shapely\n",
    "from scipy.optimize import curve_fit\n",
    "from shapely.affinity import scale\n",
    "from shapely.ops import clip_by_rect\n",
    "from skfem import Basis, ElementTriP0\n",
    "from skfem.io.meshio import from_meshio\n",
    "\n",
    "from femwell.maxwell.waveguide import compute_modes\n",
    "from femwell.mesh import mesh_from_OrderedDict\n",
    "from femwell.visualization import plot_domains"
   ]
  },
  {
   "cell_type": "markdown",
   "id": "3514252c",
   "metadata": {},
   "source": [
    "Assume there is some information available about TE waveguide loss as a function of wavelength and width:"
   ]
  },
  {
   "cell_type": "code",
   "execution_count": null,
   "id": "ef27a96a",
   "metadata": {},
   "outputs": [],
   "source": [
    "# Foundry-reported information\n",
    "wavelengths = (1.55, 1.55)\n",
    "widths = (0.5, 1)\n",
    "slab_heights = (0.0, 0.0)\n",
    "losses = ydata = np.array([2, 1])\n",
    "core_thickness = 0.22\n",
    "n_si = 3.45\n",
    "n_sio2 = 1.44\n",
    "\n",
    "# Model hyperparameters\n",
    "sidewall_extent = 0.01\n",
    "\n",
    "# Format training data\n",
    "xdata = []\n",
    "for wavelength, width, slab_height in zip(wavelengths, widths, slab_heights):\n",
    "    xdata.append((wavelength, width, slab_height))\n",
    "xdata = np.array(xdata)"
   ]
  },
  {
   "cell_type": "markdown",
   "id": "4f7a4232",
   "metadata": {
    "lines_to_next_cell": 2
   },
   "source": [
    "Assuming sidewall roughness dominates the loss, we prepare the following mesh:"
   ]
  },
  {
   "cell_type": "code",
   "execution_count": null,
   "id": "26b33078",
   "metadata": {},
   "outputs": [],
   "source": [
    "def waveguide(\n",
    "    core_width,\n",
    "    slab_thickness,\n",
    "    core_thickness=core_thickness,\n",
    "    slab_width=4,\n",
    "    sidewall_extent=0.02,\n",
    "    sidewall_k=1e-4,\n",
    "    material_k=1e-5,\n",
    "):\n",
    "    core = shapely.geometry.box(-core_width / 2, 0, +core_width / 2, core_thickness)\n",
    "\n",
    "    # Core sidewalls (only keep side extensions)\n",
    "    core_sidewalls = core.buffer(sidewall_extent, resolution=8)\n",
    "    core_sidewalls = clip_by_rect(core_sidewalls, -np.inf, 0, np.inf, core_thickness)\n",
    "\n",
    "    if slab_thickness:\n",
    "        slab = shapely.geometry.box(-slab_width / 2, 0, +slab_width / 2, slab_thickness)\n",
    "        waveguide = shapely.union(core, slab)\n",
    "        clad = scale(waveguide.buffer(5, resolution=8), xfact=0.5)\n",
    "        polygons = OrderedDict(\n",
    "            slab=slab,\n",
    "            core=core,\n",
    "            core_sidewalls=core_sidewalls,\n",
    "            clad=clad,\n",
    "        )\n",
    "    else:\n",
    "        clad = scale(core.buffer(5, resolution=8), xfact=0.5)\n",
    "        polygons = OrderedDict(\n",
    "            core=core,\n",
    "            core_sidewalls=core_sidewalls,\n",
    "            clad=clad,\n",
    "        )\n",
    "    resolutions = dict(\n",
    "        core={\"resolution\": 0.03, \"distance\": 0.5},\n",
    "        core_sidewalls={\"resolution\": 0.005, \"distance\": 0.5},\n",
    "        slab={\"resolution\": 0.06, \"distance\": 0.5},\n",
    "    )\n",
    "\n",
    "    mesh = from_meshio(mesh_from_OrderedDict(polygons, resolutions, default_resolution_max=10))\n",
    "\n",
    "    basis0 = Basis(mesh, ElementTriP0())\n",
    "    epsilon = basis0.zeros(dtype=complex)\n",
    "\n",
    "    materials = {\n",
    "        \"core\": n_si - 1j * material_k,\n",
    "        \"core_sidewalls\": n_sio2 - 1j * sidewall_k,\n",
    "        \"clad\": n_sio2,\n",
    "    }\n",
    "\n",
    "    if slab_thickness:\n",
    "        materials[\"slab\"] = n_si - 1j * material_k\n",
    "\n",
    "    for subdomain, n in materials.items():\n",
    "        epsilon[basis0.get_dofs(elements=subdomain)] = n**2\n",
    "\n",
    "    return mesh, basis0, epsilon"
   ]
  },
  {
   "cell_type": "code",
   "execution_count": null,
   "id": "13a0bbbd",
   "metadata": {},
   "outputs": [],
   "source": [
    "mesh, basis0, epsilon = waveguide(\n",
    "    core_width=0.5,\n",
    "    slab_thickness=0.0,\n",
    "    core_thickness=0.22,\n",
    ")\n",
    "\n",
    "plot_domains(mesh)\n",
    "basis0.plot(epsilon.real, colorbar=True).show()\n",
    "basis0.plot(epsilon.imag, colorbar=True).show()"
   ]
  },
  {
   "cell_type": "markdown",
   "id": "3d1bbfd0",
   "metadata": {
    "lines_to_next_cell": 2
   },
   "source": [
    "Now that we have a simulation, we can compute TE0 modes, and fit the hyperparameters `sidewall_extent` and `sidewall_index` to get a better model for loss as a function of waveguide geometry:"
   ]
  },
  {
   "cell_type": "code",
   "execution_count": null,
   "id": "7345f39c",
   "metadata": {},
   "outputs": [],
   "source": [
    "def compute_propagation_loss(\n",
    "    wavelength,\n",
    "    core_width,\n",
    "    slab_thickness,\n",
    "    core_thickness=core_thickness,\n",
    "    slab_width=4,\n",
    "    sidewall_extent=sidewall_extent,\n",
    "    sidewall_k=1e-4,\n",
    "    material_k=1e-5,\n",
    "):\n",
    "    mesh, basis0, epsilon = waveguide(\n",
    "        core_width=core_width,\n",
    "        slab_thickness=slab_thickness,\n",
    "        core_thickness=core_thickness,\n",
    "        slab_width=slab_width,\n",
    "        sidewall_extent=sidewall_extent,\n",
    "        sidewall_k=sidewall_k,\n",
    "        material_k=material_k,\n",
    "    )\n",
    "\n",
    "    modes = compute_modes(basis0, epsilon, wavelength=wavelength, num_modes=1, order=2)\n",
    "\n",
    "    keff = modes[0].n_eff.imag\n",
    "    wavelength_m = wavelength * 1e-6  # convert to m\n",
    "    alpha = -4 * np.pi * keff / wavelength_m\n",
    "    return 10 * np.log10(np.exp(1)) * alpha * 1e-2  # convert to cm"
   ]
  },
  {
   "cell_type": "code",
   "execution_count": null,
   "id": "6eb02a30",
   "metadata": {
    "lines_to_next_cell": 2
   },
   "outputs": [],
   "source": [
    "for wavelength, core_width, slab_thickness, loss in zip(wavelengths, widths, slab_heights, losses):\n",
    "    predicted_loss = compute_propagation_loss(\n",
    "        wavelength=wavelength,\n",
    "        core_width=core_width,\n",
    "        slab_thickness=slab_thickness,\n",
    "        core_thickness=core_thickness,\n",
    "        slab_width=4,\n",
    "        sidewall_extent=sidewall_extent,\n",
    "        sidewall_k=3e-4,\n",
    "        material_k=2.5e-6,\n",
    "    )\n",
    "\n",
    "    print(wavelength, core_width, slab_thickness, predicted_loss, loss)"
   ]
  },
  {
   "cell_type": "markdown",
   "id": "888347f1",
   "metadata": {
    "lines_to_next_cell": 2
   },
   "source": [
    "Pretty close, refine through optimization:"
   ]
  },
  {
   "cell_type": "code",
   "execution_count": null,
   "id": "34ff8fc8",
   "metadata": {},
   "outputs": [],
   "source": [
    "def objective_vector(xdata, sidewall_k, material_k):\n",
    "    losses_obj = []\n",
    "    for wavelength, width, slab_height in xdata:\n",
    "        losses_obj.append(\n",
    "            compute_propagation_loss(\n",
    "                wavelength=wavelength,\n",
    "                core_width=width,\n",
    "                slab_thickness=slab_height,\n",
    "                core_thickness=core_thickness,\n",
    "                slab_width=4,\n",
    "                sidewall_extent=sidewall_extent,\n",
    "                sidewall_k=sidewall_k,\n",
    "                material_k=material_k,\n",
    "            )\n",
    "        )\n",
    "    return losses_obj"
   ]
  },
  {
   "cell_type": "code",
   "execution_count": null,
   "id": "70065bac",
   "metadata": {},
   "outputs": [],
   "source": [
    "popt, pcov = curve_fit(objective_vector, xdata, ydata, bounds=(0, [1e-2, 1e-2]), p0=(3e-4, 1e-6))"
   ]
  },
  {
   "cell_type": "code",
   "execution_count": null,
   "id": "9ec31310",
   "metadata": {},
   "outputs": [],
   "source": [
    "popt, pcov"
   ]
  },
  {
   "cell_type": "code",
   "execution_count": null,
   "id": "81ec9d7b",
   "metadata": {},
   "outputs": [],
   "source": [
    "for wavelength, core_width, slab_thickness, loss in zip(wavelengths, widths, slab_heights, losses):\n",
    "    predicted_loss = compute_propagation_loss(\n",
    "        wavelength=wavelength,\n",
    "        core_width=core_width,\n",
    "        slab_thickness=slab_thickness,\n",
    "        core_thickness=core_thickness,\n",
    "        slab_width=4,\n",
    "        sidewall_extent=sidewall_extent,\n",
    "        sidewall_k=popt[0],\n",
    "        material_k=popt[1],\n",
    "    )\n",
    "\n",
    "    print(wavelength, core_width, slab_thickness, predicted_loss, loss)"
   ]
  },
  {
   "cell_type": "code",
   "execution_count": null,
   "id": "d0738c27",
   "metadata": {},
   "outputs": [],
   "source": [
    "widths_plot = np.linspace(0.275, 2.0, 19)\n",
    "losses_plot_strip = []\n",
    "for width in widths_plot:\n",
    "    losses_plot_strip.append(\n",
    "        compute_propagation_loss(\n",
    "            wavelength=1.55,\n",
    "            core_width=width,\n",
    "            slab_thickness=0.0,\n",
    "            core_thickness=core_thickness,\n",
    "            slab_width=4,\n",
    "            sidewall_extent=sidewall_extent,\n",
    "            sidewall_k=popt[0],\n",
    "            material_k=popt[1],\n",
    "        )\n",
    "    )"
   ]
  },
  {
   "cell_type": "code",
   "execution_count": null,
   "id": "fccbed72",
   "metadata": {},
   "outputs": [],
   "source": [
    "import matplotlib.pyplot as plt\n",
    "\n",
    "plt.plot(widths_plot, losses_plot_strip, label=\"strip model\")\n",
    "plt.scatter(widths, losses, label=\"strip data\")\n",
    "\n",
    "plt.legend()\n",
    "plt.xlabel(\"Core width (um)\")\n",
    "plt.ylabel(\"Propagation loss (dB/cm)\")"
   ]
  },
  {
   "cell_type": "markdown",
   "id": "e5b8ad57",
   "metadata": {},
   "source": [
    "## Bibliography\n",
    "\n",
    "```{bibliography}\n",
    ":style: unsrt\n",
    ":filter: docname in docnames\n",
    "```"
   ]
  }
 ],
 "metadata": {
  "kernelspec": {
   "display_name": "femwell",
   "language": "python",
   "name": "python3"
  }
 },
 "nbformat": 4,
 "nbformat_minor": 5
}
