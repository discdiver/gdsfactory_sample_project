{
 "cells": [
  {
   "cell_type": "markdown",
   "id": "0",
   "metadata": {},
   "source": [
    "# FDTD Meep gratings\n",
    "\n",
    "[Meep](https://meep.readthedocs.io/en/latest/) can also compute grating coupler Sparameters and far field.\n",
    "\n",
    "\n",
    "## grating sparameters\n",
    "\n",
    "```bash\n",
    "\n",
    "                fiber_xposition\n",
    "                     |\n",
    "                fiber_core_diameter\n",
    "             /     /  /     /       |\n",
    "            /     /  /     /        | fiber_thickness\n",
    "           /     /  /     /    _ _ _| _ _ _ _ _ _  _\n",
    "                                    |\n",
    "                                    | air_gap_thickness\n",
    "                               _ _ _| _ _ _ _ _ _  _\n",
    "                                    |\n",
    "                   clad_material            | top_clad_thickness\n",
    "                               _ _ _| _ _ _ _ _ _  _\n",
    "                _|-|_|-|_|-|___     |              _| etch_depth\n",
    "               core_material        |     |core_thickness\n",
    "                ______________|_ _ _|_ _ _ _ _ _ _ _\n",
    "                                    |\n",
    "                 nbox               |box_thickness\n",
    "                ______________ _ _ _|_ _ _ _ _ _ _ _\n",
    "                                    |\n",
    "                 nsubstrate         |substrate_thickness\n",
    "                ______________ _ _ _|\n",
    "\n",
    "\n",
    "```"
   ]
  },
  {
   "cell_type": "code",
   "execution_count": null,
   "id": "1",
   "metadata": {},
   "outputs": [],
   "source": [
    "import gdsfactory as gf\n",
    "from gdsfactory.generic_tech import get_generic_pdk\n",
    "\n",
    "import gplugins as sim\n",
    "import gplugins.gmeep as gm\n",
    "\n",
    "gf.config.rich_output()\n",
    "PDK = get_generic_pdk()\n",
    "PDK.activate()"
   ]
  },
  {
   "cell_type": "code",
   "execution_count": null,
   "id": "2",
   "metadata": {},
   "outputs": [],
   "source": [
    "sp = gm.write_sparameters_grating(plot=True)"
   ]
  },
  {
   "cell_type": "code",
   "execution_count": null,
   "id": "3",
   "metadata": {},
   "outputs": [],
   "source": [
    "sp = gm.write_sparameters_grating(plot=True, plot_contour=True)"
   ]
  },
  {
   "cell_type": "code",
   "execution_count": null,
   "id": "4",
   "metadata": {},
   "outputs": [],
   "source": [
    "sp = gm.write_sparameters_grating(plot=True, plot_contour=True, fiber_angle_deg=45)"
   ]
  },
  {
   "cell_type": "markdown",
   "id": "5",
   "metadata": {},
   "source": [
    "`plot=True` only plots the simulations for you to review that is set up **correctly**\n",
    "\n",
    "However the core and cladding index of the fiber are very close to 1.44, so it's hard to see. You can also use\n",
    "\n",
    "`plot_contour=True` to plot only the contour of the simulation shapes."
   ]
  },
  {
   "cell_type": "code",
   "execution_count": null,
   "id": "6",
   "metadata": {},
   "outputs": [],
   "source": [
    "sp20 = gm.write_sparameters_grating()  # fiber_angle_deg = 20"
   ]
  },
  {
   "cell_type": "code",
   "execution_count": null,
   "id": "7",
   "metadata": {},
   "outputs": [],
   "source": [
    "sim.plot.plot_sparameters(sp20)"
   ]
  },
  {
   "cell_type": "code",
   "execution_count": null,
   "id": "8",
   "metadata": {},
   "outputs": [],
   "source": [
    "sp = gm.write_sparameters_grating(fiber_angle_deg=15)\n",
    "sim.plot.plot_sparameters(sp)"
   ]
  },
  {
   "cell_type": "markdown",
   "id": "9",
   "metadata": {},
   "source": [
    "### Single core\n",
    "\n",
    "Running on a single CPU core can be slow as the a single core needs to update all the simulation grid points sequentially.\n",
    "\n",
    "### Multicore (MPI)\n",
    "\n",
    "You can divide each simulation into multiple cores thanks to [MPI (message passing interface)](https://en.wikipedia.org/wiki/Message_Passing_Interface)\n"
   ]
  },
  {
   "cell_type": "markdown",
   "id": "10",
   "metadata": {},
   "source": [
    "### Batch\n",
    "\n",
    "You can also run a batch of multicore simulations"
   ]
  },
  {
   "cell_type": "markdown",
   "id": "11",
   "metadata": {},
   "source": [
    "## Far field\n",
    "\n",
    "TODO"
   ]
  }
 ],
 "metadata": {
  "jupytext": {
   "cell_metadata_filter": "-all",
   "custom_cell_magics": "kql"
  },
  "kernelspec": {
   "display_name": "base",
   "language": "python",
   "name": "python3"
  }
 },
 "nbformat": 4,
 "nbformat_minor": 5
}
