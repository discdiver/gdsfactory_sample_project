{
 "cells": [
  {
   "cell_type": "markdown",
   "id": "0",
   "metadata": {},
   "source": [
    "# Variability analysis\n",
    "\n",
    "You can study the effect of variability on device performance using the same methods to iterate component parameters to build models.\n",
    "\n",
    "## Lithographic parameters\n",
    "\n",
    "Not all variability can be captured by simply changing the Component or LayerStack input parameters.\n",
    "\n",
    "`LithoParameter` parameters have a parametrizable `transformation` attribute that you can use to modify the Component geometry prior to simulation in more complex ways than simply changing its calling arguments. The parameter has methods that return a temporary component given an initial component and a transformation type.\n",
    "\n",
    "Here are the transformations we support so far:\n",
    "\n",
    "1. Dilation and erosion\n",
    "2. Corner rounding\n",
    "3. Offsets\n",
    "4. Corner rounding\n",
    "5. Corner analysis"
   ]
  },
  {
   "cell_type": "code",
   "execution_count": null,
   "id": "1",
   "metadata": {},
   "outputs": [],
   "source": [
    "import gdsfactory as gf\n",
    "\n",
    "c = gf.Component(\"myComponent\")\n",
    "poly1a = c.add_polygon(\n",
    "    [[2.8, 3], [5, 3], [5, 0.8]],\n",
    "    layer=\"WG\",\n",
    ")\n",
    "poly1b = c.add_polygon(\n",
    "    [\n",
    "        [2, 0],\n",
    "        [2, 2],\n",
    "        [4, 2],\n",
    "        [4, 0],\n",
    "    ],\n",
    "    layer=\"WG\",\n",
    ")\n",
    "poly1c = c.add_polygon(\n",
    "    [\n",
    "        [0, 0.5],\n",
    "        [0, 1.5],\n",
    "        [3, 1.5],\n",
    "        [3, 0.5],\n",
    "    ],\n",
    "    layer=\"WG\",\n",
    ")\n",
    "poly2 = c.add_polygon(\n",
    "    [\n",
    "        [0, 0],\n",
    "        [5, 0],\n",
    "        [5, 3],\n",
    "        [0, 3],\n",
    "    ],\n",
    "    layer=\"SLAB90\",\n",
    ")\n",
    "poly3 = c.add_polygon(\n",
    "    [\n",
    "        [2.5, -2],\n",
    "        [3.5, -2],\n",
    "        [3.5, -0.1],\n",
    "        [2.5, -0.1],\n",
    "    ],\n",
    "    layer=\"WG\",\n",
    ")\n",
    "c.add_port(name=\"o1\", center=(0, 1), width=1, orientation=0, layer=\"WG\")\n",
    "c.add_port(name=\"o2\", center=(3, -2), width=1, orientation=90, layer=\"SLAB90\")\n",
    "c.plot()"
   ]
  },
  {
   "cell_type": "markdown",
   "id": "2",
   "metadata": {},
   "source": [
    "### Dilation and erosion\n",
    "\n",
    "A `LithoParameter` of `type = \"layer_dilation_erosion\"` parametrizes a layerwise growing (positive value) or shrinking (negative value) of the geometry. Note that the ports are properly resized when they are on the transformed layer:"
   ]
  },
  {
   "cell_type": "code",
   "execution_count": null,
   "id": "3",
   "metadata": {},
   "outputs": [],
   "source": [
    "from gplugins.sax.parameter import LithoParameter\n",
    "\n",
    "param = LithoParameter(layername=\"core\")\n",
    "eroded_c = param.layer_dilation_erosion(c, 0.2)\n",
    "eroded_c"
   ]
  },
  {
   "cell_type": "code",
   "execution_count": null,
   "id": "4",
   "metadata": {},
   "outputs": [],
   "source": [
    "param = LithoParameter(layername=\"core\")\n",
    "eroded_c = param.layer_dilation_erosion(c, -0.3)\n",
    "eroded_c"
   ]
  },
  {
   "cell_type": "code",
   "execution_count": null,
   "id": "5",
   "metadata": {},
   "outputs": [],
   "source": [
    "param = LithoParameter(layername=\"slab90\")\n",
    "eroded_c = param.layer_dilation_erosion(c, 0.2)\n",
    "eroded_c"
   ]
  },
  {
   "cell_type": "markdown",
   "id": "6",
   "metadata": {},
   "source": [
    "### Offsets\n",
    "\n",
    "Lithography can sometimes laterally offset layers w.r.t. to one another.\n",
    "This is captured by layerwise `type = \"layer_x_offset\"` and  `type = \"layer_x_offset\"`.\n",
    "Note that ports are also translated:"
   ]
  },
  {
   "cell_type": "code",
   "execution_count": null,
   "id": "7",
   "metadata": {},
   "outputs": [],
   "source": [
    "param = LithoParameter(layername=\"core\")\n",
    "offset_c = param.layer_x_offset(c, 0.5)\n",
    "offset_c"
   ]
  },
  {
   "cell_type": "code",
   "execution_count": null,
   "id": "8",
   "metadata": {},
   "outputs": [],
   "source": [
    "param = LithoParameter(layername=\"core\")\n",
    "offset_c = param.layer_y_offset(c, -0.5)\n",
    "offset_c"
   ]
  },
  {
   "cell_type": "markdown",
   "id": "9",
   "metadata": {},
   "source": [
    "## Corner rounding\n",
    "\n",
    "The erosion and dilation above is done with \"worst case\" sharp corners.\n",
    "An erosion --> dilation --> erosion sequence, accessible with `type = \"layer_round_corners\"` can be done to parametrize corner rounding.\n",
    "For ports, here parts of the geometry overlapping with ports are patched to prevent the ports from being off the layer."
   ]
  },
  {
   "cell_type": "code",
   "execution_count": null,
   "id": "10",
   "metadata": {},
   "outputs": [],
   "source": [
    "param = LithoParameter(layername=\"core\")\n",
    "smooth_c = param.layer_round_corners(c, 0.1)\n",
    "smooth_c"
   ]
  },
  {
   "cell_type": "code",
   "execution_count": null,
   "id": "11",
   "metadata": {},
   "outputs": [],
   "source": [
    "param = LithoParameter(layername=\"core\")\n",
    "smooth_c = param.layer_round_corners(c, 0.4)\n",
    "smooth_c"
   ]
  },
  {
   "cell_type": "markdown",
   "id": "12",
   "metadata": {},
   "source": [
    "## Corner analysis\n",
    "\n",
    "For convenience, the model builder can also iterate over only the `min`, `max`, and `nominal` values of all trainable_parameters by using the `types=corners` instead of the default `types=arange` argument of `Model.get_model_input_output(type=\"corners\")`.\n",
    "\n",
    "## Directional coupler example\n",
    "\n",
    "Consider a directional coupler component which is modeled through a generic `MeepFDTDModel`. The only difference between this and the `FemwellWaveguideModel` from last notebook is how the simulation is defined: everything else involving iteration over parameters, multiprocessing, and model fitting, is identical. This makes model building easily extensible to new simulators.\n",
    "\n",
    "Here, we are only interested in variability analysis of the geometry, and so we create a trainable coupler with fixed length and gap:"
   ]
  },
  {
   "cell_type": "code",
   "execution_count": null,
   "id": "13",
   "metadata": {},
   "outputs": [],
   "source": [
    "import gdsfactory as gf\n",
    "from gdsfactory.pdk import get_layer_stack\n",
    "from gdsfactory.technology import LayerStack\n",
    "\n",
    "from gplugins.sax.parameter import NamedParameter\n",
    "\n",
    "# gdsfactory layer_stack\n",
    "filtered_layer_stack = LayerStack(\n",
    "    layers={\n",
    "        k: get_layer_stack().layers[k]\n",
    "        for k in (\n",
    "            \"slab90\",\n",
    "            \"core\",\n",
    "            \"box\",\n",
    "            \"clad\",\n",
    "        )\n",
    "    }\n",
    ")\n",
    "\n",
    "\n",
    "# trainable component function, choosing which parameters to fix and which to consider for the model\n",
    "def trainable_coupler(parameters):\n",
    "    return gf.components.coupler_full(\n",
    "        coupling_length=10,\n",
    "        gap=0.3,\n",
    "        dw=0.0,\n",
    "    )\n",
    "\n",
    "\n",
    "c = trainable_coupler({})\n",
    "c.plot()"
   ]
  },
  {
   "cell_type": "markdown",
   "id": "14",
   "metadata": {},
   "source": [
    "When defining the model, we add the LithoParameter `erosion_magnitude`. For all models, a `TransformParameter` which if set, will offset the provided component prior to simulation, emulating erosion (when <1), nominal behaviour (when 1) and dilation (when >1). This morphological transformation is currently global; more advanced spatially-correlated filters are an obvious next step."
   ]
  },
  {
   "cell_type": "code",
   "execution_count": null,
   "id": "15",
   "metadata": {},
   "outputs": [],
   "source": [
    "from gplugins.sax.integrations.meep_FDTD_model import MeepFDTDModel\n",
    "\n",
    "# Simulation settings\n",
    "port_symmetries_coupler = {\n",
    "    \"o1@0,o1@0\": [\"o2@0,o2@0\", \"o3@0,o3@0\", \"o4@0,o4@0\"],\n",
    "    \"o2@0,o1@0\": [\"o1@0,o2@0\", \"o3@0,o4@0\", \"o4@0,o3@0\"],\n",
    "    \"o3@0,o1@0\": [\"o1@0,o3@0\", \"o2@0,o4@0\", \"o4@0,o2@0\"],\n",
    "    \"o4@0,o1@0\": [\"o1@0,o4@0\", \"o2@0,o3@0\", \"o3@0,o2@0\"],\n",
    "}\n",
    "\n",
    "sim_settings = dict(\n",
    "    resolution=30,\n",
    "    xmargin=1.0,\n",
    "    ymargin=1.0,\n",
    "    is_3d=False,\n",
    "    port_source_names=[\"o1\"],\n",
    "    port_symmetries=port_symmetries_coupler,\n",
    "    run=True,\n",
    "    overwrite=False,\n",
    "    layer_stack=filtered_layer_stack,\n",
    "    z=0.1,\n",
    ")\n",
    "\n",
    "\n",
    "coupler_model = MeepFDTDModel(\n",
    "    trainable_component=trainable_coupler,\n",
    "    layer_stack=filtered_layer_stack,\n",
    "    simulation_settings={\n",
    "        \"sim_settings\": sim_settings,\n",
    "    },\n",
    "    trainable_parameters={\n",
    "        \"dilation_magnitude\": LithoParameter(\n",
    "            type=\"layer_dilation_erosion\",\n",
    "            layername=\"core\",\n",
    "            min_value=-0.05,\n",
    "            max_value=0.05,\n",
    "            nominal_value=0.0,\n",
    "            step=0.05,\n",
    "        ),\n",
    "    },\n",
    "    non_trainable_parameters={\n",
    "        \"wavelength\": NamedParameter(\n",
    "            min_value=1.54, max_value=1.56, nominal_value=1.55, step=0.01\n",
    "        ),\n",
    "    },\n",
    "    num_modes=1,\n",
    ")"
   ]
  },
  {
   "cell_type": "code",
   "execution_count": null,
   "id": "16",
   "metadata": {},
   "outputs": [],
   "source": [
    "# input_vectors, output_vectors = coupler_model.get_model_input_output(type=\"corners\")"
   ]
  },
  {
   "cell_type": "markdown",
   "id": "17",
   "metadata": {},
   "source": [
    "We can analyze the output vectors as a function of input vectors to study variability (TODO).\n",
    "\n",
    "Since such a change of morphology can also be approximated with a change in gap and waveguide width of the original component, we can compare the results to a model of the component with these as swept NamedParameters (TODO)."
   ]
  }
 ],
 "metadata": {
  "jupytext": {
   "cell_metadata_filter": "-all",
   "main_language": "python",
   "notebook_metadata_filter": "-all"
  }
 },
 "nbformat": 4,
 "nbformat_minor": 5
}
