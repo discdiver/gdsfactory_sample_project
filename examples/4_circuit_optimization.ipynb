{
 "cells": [
  {
   "cell_type": "markdown",
   "id": "0",
   "metadata": {},
   "source": [
    "# Circuit filter Optimization"
   ]
  },
  {
   "cell_type": "markdown",
   "id": "1",
   "metadata": {},
   "source": [
    "## Imports"
   ]
  },
  {
   "cell_type": "code",
   "execution_count": 1,
   "id": "2",
   "metadata": {},
   "outputs": [],
   "source": [
    "import sax\n",
    "import jax\n",
    "from scipy.constants import c as c_m_s\n",
    "import jax.numpy as jnp\n",
    "import scipy.optimize\n",
    "from ipywidgets import interact\n",
    "import matplotlib.pyplot as plt\n",
    "import gdsfactoryplus as gfp\n",
    "\n",
    "from cspdk.si220 import PDK"
   ]
  },
  {
   "cell_type": "markdown",
   "id": "3",
   "metadata": {},
   "source": [
    "## Config"
   ]
  },
  {
   "cell_type": "code",
   "execution_count": 2,
   "id": "4",
   "metadata": {},
   "outputs": [
    {
     "name": "stdout",
     "output_type": "stream",
     "text": [
      "Channel spacing: 0.801 nm\n",
      "dL=402.947um\n",
      "dL_FS=0.487um\n",
      "[1.5    1.5001 1.5002 ... 1.5998 1.5999 1.6   ]\n",
      "[1550.  1550.8 1551.6 1552.4 1553.2 1554.  1554.8 1555.6]\n"
     ]
    }
   ],
   "source": [
    "wl0 = 1.55  # [um] Center wavelength\n",
    "c_um_s = 1e6 * c_m_s  # [um/s] Speed of light\n",
    "f = c_um_s / wl0  # [Hz] Frequency\n",
    "df = 100e9  # [Hz] Channel Frequency Spacing\n",
    "channel_spacing = (c_um_s / (f**2)) * df # [um] Channel Wavelength Spacing\n",
    "print(f\"Channel spacing: {channel_spacing * 1e3:.3f} nm\")\n",
    "\n",
    "wls_nm = 1550 + jnp.array(jnp.arange(8))*0.8\n",
    "wls = wls_nm / 1e3  # [um]\n",
    "wl = jnp.linspace(1.50, 1.60, 1001)  # [um]\n",
    "\n",
    "ng = 3.720  # Group index\n",
    "neff = 3.185  # Effective index\n",
    "loss_dB_cm = 3.0 # [dB/cm]\n",
    "loss_dB_um = loss_dB_cm * 1e-4  # converting dB/cm to dB/m\n",
    "dL0 = (wl0**2) / (2 * channel_spacing * ng) # [um]\n",
    "dL_FS = wl0 / neff\n",
    "# dL0 = dL0 + dL0 * 0.01\n",
    "\n",
    "print(f\"dL={dL0:.3f}um\")\n",
    "print(f\"dL_FS={dL_FS:.3f}um\")\n",
    "print(f\"{wl}\")\n",
    "print(f\"{wls_nm}\")"
   ]
  },
  {
   "cell_type": "markdown",
   "id": "5",
   "metadata": {},
   "source": [
    "## Netlist"
   ]
  },
  {
   "cell_type": "code",
   "execution_count": 3,
   "id": "6",
   "metadata": {},
   "outputs": [
    {
     "data": {
      "image/png": "[encoded data removed]",
      "text/plain": [
       "<Figure size 800x600 with 1 Axes>"
      ]
     },
     "metadata": {},
     "output_type": "display_data"
    },
    {
     "data": {
      "image/png": "[encoded data removed]",
      "text/plain": [
       "<Figure size 800x600 with 1 Axes>"
      ]
     },
     "metadata": {},
     "output_type": "display_data"
    }
   ],
   "source": [
    "PDK.activate()\n",
    "gfp.register_cells()\n",
    "filter = PDK.cells[\"mzi_heater\"]\n",
    "cell = filter(dL=100)  # add optional lattice arguments here (python pcells only)\n",
    "netlist = cell.get_netlist(recursive=True)\n",
    "cell.plot()"
   ]
  },
  {
   "cell_type": "code",
   "execution_count": 4,
   "id": "7",
   "metadata": {},
   "outputs": [],
   "source": [
    "#gfp.show(netlist)"
   ]
  },
  {
   "cell_type": "code",
   "execution_count": 5,
   "id": "8699ba27",
   "metadata": {},
   "outputs": [
    {
     "data": {
      "text/plain": [
       "{'mzi_heater_D100': {'nets': ({'p1': 'b1,o1', 'p2': 'c1,o3'},\n",
       "   {'p1': 'b1,o2', 'p2': 'sl,o1'},\n",
       "   {'p1': 'b2,o1', 'p2': 'sl,o2'},\n",
       "   {'p1': 'b2,o2', 'p2': 'h,o1'},\n",
       "   {'p1': 'b3,o1', 'p2': 'h,o2'},\n",
       "   {'p1': 'b3,o2', 'p2': 'sr,o1'},\n",
       "   {'p1': 'b4,o1', 'p2': 'sr,o2'},\n",
       "   {'p1': 'b4,o2', 'p2': 'c2,o2'},\n",
       "   {'p1': 'c1,o4', 'p2': 'taper_L10_W0p45_WNone_P_8010e433_40000_m1658,o2'},\n",
       "   {'p1': 'c2,o1', 'p2': 'taper_L10_W0p45_WNone_P_8010e433_140000_m1658,o2'},\n",
       "   {'p1': 'straight_L100_CSxs_sc_W0p45_140000_m1658,o1',\n",
       "    'p2': 'taper_L10_W0p45_WNone_P_8010e433_140000_m1658,o1'},\n",
       "   {'p1': 'straight_L100_CSxs_sc_W0p45_140000_m1658,o2',\n",
       "    'p2': 'taper_L10_W0p45_WNone_P_8010e433_40000_m1658,o1'}),\n",
       "  'instances': {'b1': {'component': 'bend_euler',\n",
       "    'info': {'length': 8.318,\n",
       "     'dy': 5,\n",
       "     'min_bend_radius': 3.53,\n",
       "     'radius': 5,\n",
       "     'width': 0.45,\n",
       "     'route_info_type': 'xs_sc',\n",
       "     'route_info_length': 8.318,\n",
       "     'route_info_weight': 8.318,\n",
       "     'route_info_xs_sc_length': 8.318,\n",
       "     'route_info_n_bend_90': 1,\n",
       "     'route_info_min_bend_radius': 3.53},\n",
       "    'settings': {'radius': None,\n",
       "     'angle': 90,\n",
       "     'p': 0.5,\n",
       "     'width': None,\n",
       "     'cross_section': 'xs_sc'}},\n",
       "   'b2': {'component': 'bend_euler',\n",
       "    'info': {'length': 8.318,\n",
       "     'dy': 5,\n",
       "     'min_bend_radius': 3.53,\n",
       "     'radius': 5,\n",
       "     'width': 0.45,\n",
       "     'route_info_type': 'xs_sc',\n",
       "     'route_info_length': 8.318,\n",
       "     'route_info_weight': 8.318,\n",
       "     'route_info_xs_sc_length': 8.318,\n",
       "     'route_info_n_bend_90': 1,\n",
       "     'route_info_min_bend_radius': 3.53},\n",
       "    'settings': {'radius': None,\n",
       "     'angle': 90,\n",
       "     'p': 0.5,\n",
       "     'width': None,\n",
       "     'cross_section': 'xs_sc'}},\n",
       "   'b3': {'component': 'bend_euler',\n",
       "    'info': {'length': 8.318,\n",
       "     'dy': 5,\n",
       "     'min_bend_radius': 3.53,\n",
       "     'radius': 5,\n",
       "     'width': 0.45,\n",
       "     'route_info_type': 'xs_sc',\n",
       "     'route_info_length': 8.318,\n",
       "     'route_info_weight': 8.318,\n",
       "     'route_info_xs_sc_length': 8.318,\n",
       "     'route_info_n_bend_90': 1,\n",
       "     'route_info_min_bend_radius': 3.53},\n",
       "    'settings': {'radius': None,\n",
       "     'angle': 90,\n",
       "     'p': 0.5,\n",
       "     'width': None,\n",
       "     'cross_section': 'xs_sc'}},\n",
       "   'b4': {'component': 'bend_euler',\n",
       "    'info': {'length': 8.318,\n",
       "     'dy': 5,\n",
       "     'min_bend_radius': 3.53,\n",
       "     'radius': 5,\n",
       "     'width': 0.45,\n",
       "     'route_info_type': 'xs_sc',\n",
       "     'route_info_length': 8.318,\n",
       "     'route_info_weight': 8.318,\n",
       "     'route_info_xs_sc_length': 8.318,\n",
       "     'route_info_n_bend_90': 1,\n",
       "     'route_info_min_bend_radius': 3.53},\n",
       "    'settings': {'radius': None,\n",
       "     'angle': 90,\n",
       "     'p': 0.5,\n",
       "     'width': None,\n",
       "     'cross_section': 'xs_sc'}},\n",
       "   'c1': {'component': 'coupler',\n",
       "    'info': {'length': 10.192, 'min_bend_radius': 11.695},\n",
       "    'settings': {'gap': 0.234,\n",
       "     'length': 20,\n",
       "     'dy': 4,\n",
       "     'dx': 10,\n",
       "     'cross_section': 'xs_sc'}},\n",
       "   'c2': {'component': 'coupler',\n",
       "    'info': {'length': 10.192, 'min_bend_radius': 11.695},\n",
       "    'settings': {'gap': 0.234,\n",
       "     'length': 20,\n",
       "     'dy': 4,\n",
       "     'dx': 10,\n",
       "     'cross_section': 'xs_sc'}},\n",
       "   'h': {'component': 'straight_heater_metal_sc',\n",
       "    'info': {'resistance': 0, 'length': 100},\n",
       "    'settings': {'length': 100,\n",
       "     'length_undercut_spacing': 6,\n",
       "     'length_undercut': 30,\n",
       "     'length_straight': 0.1,\n",
       "     'length_straight_input': 15,\n",
       "     'cross_section': 'xs_sc',\n",
       "     'cross_section_heater': 'heater_metal',\n",
       "     'cross_section_waveguide_heater': 'xs_sc_heater',\n",
       "     'cross_section_heater_undercut': 'xs_sc_heater',\n",
       "     'with_undercut': True,\n",
       "     'via_stack': 'via_stack_heater_mtop',\n",
       "     'port_orientation1': 180,\n",
       "     'port_orientation2': 0,\n",
       "     'heater_taper_length': 5,\n",
       "     'ohms_per_square': None}},\n",
       "   'sl': {'component': 'straight',\n",
       "    'info': {'length': 100,\n",
       "     'width': 0.45,\n",
       "     'route_info_type': 'xs_sc',\n",
       "     'route_info_length': 100,\n",
       "     'route_info_weight': 100,\n",
       "     'route_info_xs_sc_length': 100},\n",
       "    'settings': {'length': 100, 'cross_section': 'xs_sc'}},\n",
       "   'sr': {'component': 'straight',\n",
       "    'info': {'length': 100,\n",
       "     'width': 0.45,\n",
       "     'route_info_type': 'xs_sc',\n",
       "     'route_info_length': 100,\n",
       "     'route_info_weight': 100,\n",
       "     'route_info_xs_sc_length': 100},\n",
       "    'settings': {'length': 100, 'cross_section': 'xs_sc'}},\n",
       "   'straight_L100_CSxs_sc_W0p45_140000_m1658': {'component': 'straight',\n",
       "    'info': {'length': 100,\n",
       "     'width': 0.45,\n",
       "     'route_info_type': 'xs_sc',\n",
       "     'route_info_length': 100,\n",
       "     'route_info_weight': 100,\n",
       "     'route_info_xs_sc_length': 100},\n",
       "    'settings': {'length': 100, 'cross_section': 'xs_sc', 'width': 0.45}},\n",
       "   'taper_L10_W0p45_WNone_P_8010e433_140000_m1658': {'component': 'taper',\n",
       "    'info': {'length': 10, 'width1': 0.45, 'width2': 0.45},\n",
       "    'settings': {'length': 10,\n",
       "     'width1': 0.45,\n",
       "     'width2': None,\n",
       "     'port': None,\n",
       "     'cross_section': 'xs_sc'}},\n",
       "   'taper_L10_W0p45_WNone_P_8010e433_40000_m1658': {'component': 'taper',\n",
       "    'info': {'length': 10, 'width1': 0.45, 'width2': 0.45},\n",
       "    'settings': {'length': 10,\n",
       "     'width1': 0.45,\n",
       "     'width2': None,\n",
       "     'port': None,\n",
       "     'cross_section': 'xs_sc'}}},\n",
       "  'placements': {'b1': {'x': 30, 'y': 2.342, 'rotation': 0, 'mirror': False},\n",
       "   'b2': {'x': 35, 'y': 107.342, 'rotation': 90, 'mirror': True},\n",
       "   'b3': {'x': 140, 'y': 112.342, 'rotation': 0, 'mirror': True},\n",
       "   'b4': {'x': 145, 'y': 7.342, 'rotation': 270, 'mirror': False},\n",
       "   'c1': {'x': 0, 'y': 0, 'rotation': 0, 'mirror': False},\n",
       "   'c2': {'x': 160, 'y': 0, 'rotation': 0, 'mirror': False},\n",
       "   'h': {'x': 40, 'y': 112.342, 'rotation': 0, 'mirror': False},\n",
       "   'sl': {'x': 35, 'y': 7.342, 'rotation': 90, 'mirror': False},\n",
       "   'sr': {'x': 145, 'y': 107.342, 'rotation': 270, 'mirror': False},\n",
       "   'straight_L100_CSxs_sc_W0p45_140000_m1658': {'x': 140,\n",
       "    'y': -1.658,\n",
       "    'rotation': 180,\n",
       "    'mirror': False},\n",
       "   'taper_L10_W0p45_WNone_P_8010e433_140000_m1658': {'x': 140,\n",
       "    'y': -1.658,\n",
       "    'rotation': 0,\n",
       "    'mirror': False},\n",
       "   'taper_L10_W0p45_WNone_P_8010e433_40000_m1658': {'x': 40,\n",
       "    'y': -1.658,\n",
       "    'rotation': 180,\n",
       "    'mirror': False}},\n",
       "  'ports': {'o1': 'c1,o1',\n",
       "   'o2': 'c1,o2',\n",
       "   'o3': 'c2,o3',\n",
       "   'o4': 'c2,o4',\n",
       "   'e1': 'h,l_e1',\n",
       "   'e2': 'h,r_e3'},\n",
       "  'name': 'mzi_heater_D100'}}"
      ]
     },
     "execution_count": 5,
     "metadata": {},
     "output_type": "execute_result"
    }
   ],
   "source": [
    "netlist"
   ]
  },
  {
   "cell_type": "markdown",
   "id": "14",
   "metadata": {},
   "source": [
    "## MZI Circuit"
   ]
  },
  {
   "cell_type": "code",
   "execution_count": 6,
   "id": "15",
   "metadata": {},
   "outputs": [],
   "source": [
    "# it's best to construct the circuit outside the wrapping function:\n",
    "# this makes sure the circuit only needs to be constructed once.\n",
    "_mzi, _ = sax.circuit(netlist, PDK.models)\n",
    "\n",
    "# let's now wrap the constructed mzi:\n",
    "\n",
    "@jax.jit # let's jit it for better performance\n",
    "def mzi(wl=1.55, dL=dL0):\n",
    "    \n",
    "    return _mzi(\n",
    "        wl=wl, # top-level arguments will be distrubuted to all subcomponents that take that argument.\n",
    "        # but we can also set settings for a specific subcomponent:\n",
    "        sr={'length': dL},\n",
    "        sl={'length': dL},\n",
    "    )"
   ]
  },
  {
   "cell_type": "code",
   "execution_count": 7,
   "id": "16",
   "metadata": {},
   "outputs": [
    {
     "name": "stdout",
     "output_type": "stream",
     "text": [
      "\u001b[31mSignature:\u001b[39m      mzi(wl=\u001b[32m1.55\u001b[39m, dL=\u001b[32m402.9468521505376\u001b[39m)\n",
      "\u001b[31mCall signature:\u001b[39m mzi(*args, **kwargs)\n",
      "\u001b[31mType:\u001b[39m           PjitFunction\n",
      "\u001b[31mString form:\u001b[39m    <PjitFunction of <function mzi at 0x31845cf40>>\n",
      "\u001b[31mFile:\u001b[39m           /var/folders/6t/tcyr1gq16g99t9dcztncq_940000gn/T/ipykernel_69774/246461608.py"
     ]
    }
   ],
   "source": [
    "mzi?"
   ]
  },
  {
   "cell_type": "code",
   "execution_count": 8,
   "id": "fabec7a0",
   "metadata": {},
   "outputs": [
    {
     "data": {
      "text/plain": [
       "402.9468521505376"
      ]
     },
     "execution_count": 8,
     "metadata": {},
     "output_type": "execute_result"
    }
   ],
   "source": [
    "dL0"
   ]
  },
  {
   "cell_type": "code",
   "execution_count": null,
   "id": "17",
   "metadata": {},
   "outputs": [
    {
     "data": {
      "application/vnd.jupyter.widget-view+json": {
       "model_id": "c1384ed481374fcd968dd6065f38171b",
       "version_major": 2,
       "version_minor": 0
      },
      "text/plain": [
       "interactive(children=(IntSlider(value=100, description='dL', min=10), Output()), _dom_classes=('widget-interac…"
      ]
     },
     "metadata": {},
     "output_type": "display_data"
    }
   ],
   "source": [
    "@interact(dL=(10, 100))\n",
    "def show(dL=dL0):\n",
    "    plt.figure(figsize=(8, 3))\n",
    "    S = sax.sdict(mzi(wl=wl, dL=dL))\n",
    "    plt.plot(wl, abs(S[\"o1\", \"o3\"]) ** 2, label=\"in0->out0\", color=\"C0\")\n",
    "    plt.plot(wl, abs(S[\"o1\", \"o4\"]) ** 2, label=\"in0->out1\", ls=\"--\", color=\"C1\")\n",
    "    plt.ylabel(\"power\")\n",
    "    plt.grid(True)\n",
    "    plt.yticks([0.0, 0.25, 0.5, 0.75, 1.0])\n",
    "    plt.ylim(0.0, 1.0)\n",
    "    plt.xticks(jnp.round(wls, 4))\n",
    "    plt.xlim(wls.min(), wls.max())\n",
    "    plt.xlabel(\"λ [μm]\")\n",
    "    plt.figlegend(ncol=2)\n",
    "    plt.show()"
   ]
  },
  {
   "cell_type": "markdown",
   "id": "26",
   "metadata": {},
   "source": [
    "## Optimization"
   ]
  },
  {
   "cell_type": "markdown",
   "id": "c5704328",
   "metadata": {},
   "source": [
    "We'd like to optimize an MZI such that one of the minima is at 1552.4nm. To do this, we need to define a loss function for the circuit at 1530nm. This function should take the parameters that you want to optimize as positional arguments:"
   ]
  },
  {
   "cell_type": "code",
   "execution_count": 44,
   "id": "28",
   "metadata": {},
   "outputs": [],
   "source": [
    "import jax.example_libraries.optimizers as opt\n",
    "from tqdm.notebook import tqdm, trange\n",
    "\n",
    "wl_target = 1.5524\n",
    "\n",
    "@jax.jit\n",
    "def loss_fn(delta_length):\n",
    "    S = mzi(\n",
    "        wl=wl_target,\n",
    "        dL=delta_length\n",
    "    )\n",
    "    return jnp.mean(jnp.abs(S[\"o1\", \"o4\"]) ** 2)"
   ]
  },
  {
   "cell_type": "code",
   "execution_count": 45,
   "id": "cdce2dc0",
   "metadata": {},
   "outputs": [],
   "source": [
    "grad_fn = jax.jit(\n",
    "    jax.grad(\n",
    "        loss_fn,\n",
    "        argnums=0,  # JAX gradient function for the first positional argument, jitted\n",
    "    )\n",
    ")"
   ]
  },
  {
   "cell_type": "code",
   "execution_count": 46,
   "id": "eca87f47",
   "metadata": {},
   "outputs": [],
   "source": [
    "initial_delta_length = 21.0\n",
    "init_fn, update_fn, params_fn = opt.adam(step_size=0.1)\n",
    "state = init_fn(initial_delta_length)"
   ]
  },
  {
   "cell_type": "markdown",
   "id": "8ed8620a",
   "metadata": {},
   "source": [
    "Given all this, a single training step can be defined:"
   ]
  },
  {
   "cell_type": "code",
   "execution_count": 47,
   "id": "37378bcd",
   "metadata": {},
   "outputs": [],
   "source": [
    "def step_fn(step, state):\n",
    "    params = params_fn(state)\n",
    "    loss = loss_fn(params)\n",
    "    grad = grad_fn(params)\n",
    "    state = update_fn(step, grad, state)\n",
    "    return loss, state"
   ]
  },
  {
   "cell_type": "markdown",
   "id": "89b07491",
   "metadata": {},
   "source": [
    "And we can use this step function to start the training of the MZI:"
   ]
  },
  {
   "cell_type": "code",
   "execution_count": 48,
   "id": "b36c0a9b",
   "metadata": {},
   "outputs": [
    {
     "data": {
      "application/vnd.jupyter.widget-view+json": {
       "model_id": "f99b803bef914d5fb6e3b53fc5a757ff",
       "version_major": 2,
       "version_minor": 0
      },
      "text/plain": [
       "  0%|          | 0/300 [00:00<?, ?it/s]"
      ]
     },
     "metadata": {},
     "output_type": "display_data"
    }
   ],
   "source": [
    "for step in (\n",
    "    pb := trange(300)\n",
    "):  # the first two iterations take a while because the circuit is being jitted...\n",
    "    loss, state = step_fn(step, state)\n",
    "    pb.set_postfix(loss=f\"{loss:.6f}\")"
   ]
  },
  {
   "cell_type": "code",
   "execution_count": 49,
   "id": "2845242d",
   "metadata": {},
   "outputs": [
    {
     "data": {
      "text/plain": [
       "Array(20.91932527, dtype=float64)"
      ]
     },
     "execution_count": 49,
     "metadata": {},
     "output_type": "execute_result"
    }
   ],
   "source": [
    "delta_length = params_fn(state)\n",
    "delta_length"
   ]
  },
  {
   "cell_type": "markdown",
   "id": "caa7108a",
   "metadata": {},
   "source": [
    "Let's see what we've got over a range of wavelengths:"
   ]
  },
  {
   "cell_type": "code",
   "execution_count": 50,
   "id": "a9b88c36",
   "metadata": {},
   "outputs": [
    {
     "data": {
      "image/png": "[encoded data removed]",
      "text/plain": [
       "<Figure size 640x480 with 1 Axes>"
      ]
     },
     "metadata": {},
     "output_type": "display_data"
    }
   ],
   "source": [
    "wl = jnp.linspace(1.5, 1.6, 1000)\n",
    "S = mzi(\n",
    "    wl=wl,\n",
    "    dL=delta_length\n",
    ")\n",
    "plt.plot(wl * 1e3, abs(S[\"o1\", \"o3\"]) ** 2, label='o1->o3')\n",
    "plt.plot(wl * 1e3, abs(S[\"o1\", \"o4\"]) ** 2, label='o1->o4')\n",
    "plt.xlabel(\"λ [nm]\")\n",
    "plt.ylabel(\"T\")\n",
    "plt.plot([wl_target*1e3, wl_target*1e3], [-1, 2], ls=\":\", color=\"black\")\n",
    "plt.ylim(-0.05, 1.05)\n",
    "plt.grid(True)\n",
    "plt.legend()\n",
    "plt.show()"
   ]
  },
  {
   "cell_type": "markdown",
   "id": "7c1f9fd7",
   "metadata": {},
   "source": [
    "We have calculated the delta length of the filter."
   ]
  }
 ],
 "metadata": {
  "kernelspec": {
   "display_name": ".venv",
   "language": "python",
   "name": "python3"
  },
  "language_info": {
   "codemirror_mode": {
    "name": "ipython",
    "version": 3
   },
   "file_extension": ".py",
   "mimetype": "text/x-python",
   "name": "python",
   "nbconvert_exporter": "python",
   "pygments_lexer": "ipython3",
   "version": "3.12.9"
  }
 },
 "nbformat": 4,
 "nbformat_minor": 5
}
